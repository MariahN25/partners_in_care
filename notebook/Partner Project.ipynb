{
 "cells": [
  {
   "cell_type": "markdown",
   "id": "ce47a943",
   "metadata": {},
   "source": [
    "## Goals\n",
    "* Identify logical areas for future phased expansion of the pilot program.\n",
    "* Explore the calls data to look for any trends in terms of times or locations. Are there any precincts that get more than their share of calls?\n",
    "* Determine if there are any trends that may be disproportionality responding to populations of high poverty, low education, housing inequities, or race/ethnicity.\n"
   ]
  },
  {
   "cell_type": "code",
   "execution_count": null,
   "id": "50cc6c30",
   "metadata": {},
   "outputs": [],
   "source": [
    "import pandas as pd\n",
    "import sqlite3 as sql\n",
    "from collections import Counter"
   ]
  },
  {
   "cell_type": "markdown",
   "id": "ec7177ba",
   "metadata": {},
   "source": [
    "Connect to Census Data"
   ]
  },
  {
   "cell_type": "code",
   "execution_count": null,
   "id": "040a3432",
   "metadata": {},
   "outputs": [],
   "source": [
    "#conn = sql.connect(r\"\\Users\\mnorm\\Documents\\NSS\\Python\\Projects\\partners_in_care-rasberry-pi\\data\\census.sqlite\")\n",
    "#cur = conn.cursor()"
   ]
  },
  {
   "cell_type": "code",
   "execution_count": null,
   "id": "cc654376",
   "metadata": {},
   "outputs": [],
   "source": [
    "#cur.execute(\"SELECT name FROM sqlite_master WHERE type = 'table';\")\n",
    "#tables = (cur.fetchall())\n",
    "#tables"
   ]
  },
  {
   "cell_type": "markdown",
   "id": "cbe3536e",
   "metadata": {},
   "source": [
    "Disconnect from Census Data"
   ]
  },
  {
   "cell_type": "code",
   "execution_count": null,
   "id": "e717ebf4",
   "metadata": {},
   "outputs": [],
   "source": [
    "#cur.close()\n",
    "#conn.close()"
   ]
  },
  {
   "cell_type": "markdown",
   "id": "d7994af0",
   "metadata": {},
   "source": [
    "Import Police Call Data"
   ]
  },
  {
   "cell_type": "code",
   "execution_count": null,
   "id": "9094c87d",
   "metadata": {},
   "outputs": [],
   "source": [
    "file = pd.ExcelFile(r\"\\Users\\mnorm\\Documents\\NSS\\Python\\Projects\\partners_in_care-rasberry-pi\\data\\Mental_Calls_by_Precinct_Plain_Text_Incident_Types_070121_022822.xlsx\")"
   ]
  },
  {
   "cell_type": "code",
   "execution_count": null,
   "id": "cd708929",
   "metadata": {},
   "outputs": [],
   "source": [
    "incidents_df = pd.read_excel(file, 'incident_types')\n",
    "incidents_df.head(3)"
   ]
  },
  {
   "cell_type": "code",
   "execution_count": null,
   "id": "632f5c96",
   "metadata": {},
   "outputs": [],
   "source": [
    "priority_df = pd.read_excel(file, 'priority')\n",
    "priority_df.head(3)"
   ]
  },
  {
   "cell_type": "code",
   "execution_count": null,
   "id": "0df179dc",
   "metadata": {},
   "outputs": [],
   "source": [
    "calls_df = pd.read_excel(file, 'call_info')\n",
    "calls_df.head(3)"
   ]
  },
  {
   "cell_type": "code",
   "execution_count": null,
   "id": "59a28693",
   "metadata": {},
   "outputs": [],
   "source": [
    "geocodes_df = pd.read_csv(r\"\\Users\\mnorm\\Documents\\NSS\\Python\\Projects\\partners_in_care-rasberry-pi\\data\\geocodes.csv\")\n",
    "geocodes_df.head(3)"
   ]
  },
  {
   "cell_type": "markdown",
   "id": "947fd0be",
   "metadata": {},
   "source": [
    "Look for Trends in Time/Location"
   ]
  },
  {
   "cell_type": "code",
   "execution_count": null,
   "id": "e936f07b",
   "metadata": {},
   "outputs": [],
   "source": [
    "call_data_df = pd.merge(calls_df, geocodes_df, how = 'left', on = 'Address')\n",
    "call_data_df.head(3)"
   ]
  },
  {
   "cell_type": "code",
   "execution_count": null,
   "id": "beb9e722",
   "metadata": {},
   "outputs": [],
   "source": [
    "call_data_df.isnull().values.any()"
   ]
  },
  {
   "cell_type": "code",
   "execution_count": null,
   "id": "c7949374",
   "metadata": {},
   "outputs": [],
   "source": [
    "#addresses with the most incident calls, kept the ones with more than 100 calls\n",
    "top_9_add = call_data_df['Address'].value_counts().nlargest(n = 9)\n",
    "top_9_add"
   ]
  },
  {
   "cell_type": "code",
   "execution_count": null,
   "id": "8de27cca",
   "metadata": {},
   "outputs": [],
   "source": [
    "top_9_df = pd.DataFrame(top_9_add).reset_index()\n",
    "top_9_df = top_9_df.rename(columns = {'index' : 'Address', 'Address' : 'Count'})\n",
    "top_9_df"
   ]
  },
  {
   "cell_type": "code",
   "execution_count": null,
   "id": "58f21c4b",
   "metadata": {},
   "outputs": [],
   "source": [
    "top_adds = list(top_9_df['Address'])"
   ]
  },
  {
   "cell_type": "code",
   "execution_count": null,
   "id": "aea714ab",
   "metadata": {},
   "outputs": [],
   "source": [
    "#incident type frequency\n",
    "call_data_df['Incident Type'].value_counts()"
   ]
  },
  {
   "cell_type": "code",
   "execution_count": null,
   "id": "f3f2a1c9",
   "metadata": {},
   "outputs": [],
   "source": [
    "#incident types at top address\n",
    "add_most_calls = call_data_df.loc[call_data_df['Address'] == '639 LAFAYETTE ST']\n",
    "add_most_calls"
   ]
  },
  {
   "cell_type": "code",
   "execution_count": null,
   "id": "0f82b0cd",
   "metadata": {},
   "outputs": [],
   "source": [
    "add_most_calls['Incident Type'].value_counts()"
   ]
  },
  {
   "cell_type": "code",
   "execution_count": null,
   "id": "48182916",
   "metadata": {},
   "outputs": [],
   "source": [
    "top_9_info = pd.merge(top_9_df, call_data_df, how = 'inner', on = 'Address')\n",
    "top_9_info"
   ]
  },
  {
   "cell_type": "code",
   "execution_count": null,
   "id": "4e4f1bab",
   "metadata": {},
   "outputs": [],
   "source": [
    "#count of how many rows in the calls_data_df had addresses that matched the top 9\n",
    "call_data_df['Address'].isin(top_adds).value_counts()"
   ]
  },
  {
   "cell_type": "code",
   "execution_count": null,
   "id": "10d1d772",
   "metadata": {},
   "outputs": [],
   "source": [
    "#address and incident type for the top 9\n",
    "top_9_subset = top_9_info[['Address', 'Incident Type']]\n",
    "top_9_subset"
   ]
  },
  {
   "cell_type": "code",
   "execution_count": null,
   "id": "7299e9c4",
   "metadata": {},
   "outputs": [],
   "source": [
    "#incident breakdown for the top 9 addresses\n",
    "top_9_incidents = top_9_subset.groupby(['Incident Type']).count().reset_index()\n",
    "top_9_incidents.sort_values(by = 'Address', ascending = False)"
   ]
  },
  {
   "cell_type": "code",
   "execution_count": null,
   "id": "3021a5af",
   "metadata": {},
   "outputs": [],
   "source": [
    "#to do: \n",
    "#breakdown incidents by month, time, precint, priority\n",
    "#figure out for loop to find the incidents count for each address in to 9\n",
    "#map the top 9 addresses"
   ]
  }
 ],
 "metadata": {
  "kernelspec": {
   "display_name": "Python 3 (ipykernel)",
   "language": "python",
   "name": "python3"
  },
  "language_info": {
   "codemirror_mode": {
    "name": "ipython",
    "version": 3
   },
   "file_extension": ".py",
   "mimetype": "text/x-python",
   "name": "python",
   "nbconvert_exporter": "python",
   "pygments_lexer": "ipython3",
   "version": "3.9.7"
  }
 },
 "nbformat": 4,
 "nbformat_minor": 5
}
