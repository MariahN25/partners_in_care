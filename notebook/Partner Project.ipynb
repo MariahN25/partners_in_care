{
 "cells": [
  {
   "cell_type": "markdown",
   "id": "ce47a943",
   "metadata": {},
   "source": [
    "## Goals\n",
    "* Identify logical areas for future phased expansion of the pilot program.\n",
    "* Explore the calls data to look for any trends in terms of times or locations. Are there any precincts that get more than their share of calls?\n",
    "* Determine if there are any trends that may be disproportionality responding to populations of high poverty, low education, housing inequities, or race/ethnicity.\n"
   ]
  },
  {
   "cell_type": "code",
   "execution_count": null,
   "id": "50cc6c30",
   "metadata": {},
   "outputs": [],
   "source": [
    "import pandas as pd\n",
    "import sqlite3 as sql\n",
    "import matplotlib.pyplot as plt\n",
    "import geopandas as gpd\n",
    "import folium \n",
    "from folium.plugins import MarkerCluster \n",
    "from folium.plugins import FastMarkerCluster\n",
    "%matplotlib inline"
   ]
  },
  {
   "cell_type": "markdown",
   "id": "d7994af0",
   "metadata": {},
   "source": [
    "Import Police Call Data"
   ]
  },
  {
   "cell_type": "code",
   "execution_count": null,
   "id": "9094c87d",
   "metadata": {},
   "outputs": [],
   "source": [
    "file = pd.ExcelFile(r\"C:\\Users\\mnorm\\Documents\\NSS\\Python\\Projects\\partners_in_care-rasberry-pi\\data\\Mental_Calls_by_Precinct_Plain_Text_Incident_Types_070121_022822.xlsx\")"
   ]
  },
  {
   "cell_type": "code",
   "execution_count": null,
   "id": "cd708929",
   "metadata": {},
   "outputs": [],
   "source": [
    "incidents_df = pd.read_excel(file, 'incident_types')\n",
    "incidents_df.head(3)"
   ]
  },
  {
   "cell_type": "code",
   "execution_count": null,
   "id": "632f5c96",
   "metadata": {},
   "outputs": [],
   "source": [
    "priority_df = pd.read_excel(file, 'priority')\n",
    "priority_df.head(3)"
   ]
  },
  {
   "cell_type": "code",
   "execution_count": null,
   "id": "0df179dc",
   "metadata": {},
   "outputs": [],
   "source": [
    "calls_df = pd.read_excel(file, 'call_info')\n",
    "calls_df.head(3)"
   ]
  },
  {
   "cell_type": "code",
   "execution_count": null,
   "id": "59a28693",
   "metadata": {},
   "outputs": [],
   "source": [
    "geocodes_df = pd.read_csv(r\"\\Users\\mnorm\\Documents\\NSS\\Python\\Projects\\partners_in_care-rasberry-pi\\data\\geocodes.csv\")\n",
    "geocodes_df.head(3)"
   ]
  },
  {
   "cell_type": "markdown",
   "id": "947fd0be",
   "metadata": {},
   "source": [
    "Look for Trends in Time/Location"
   ]
  },
  {
   "cell_type": "code",
   "execution_count": null,
   "id": "e936f07b",
   "metadata": {},
   "outputs": [],
   "source": [
    "call_data_df = pd.merge(calls_df, geocodes_df, how = 'left', on = 'Address')\n",
    "call_data_df.head(3)"
   ]
  },
  {
   "cell_type": "code",
   "execution_count": null,
   "id": "beb9e722",
   "metadata": {},
   "outputs": [],
   "source": [
    "call_data_df.isnull().values.any()"
   ]
  },
  {
   "cell_type": "code",
   "execution_count": null,
   "id": "c7949374",
   "metadata": {},
   "outputs": [],
   "source": [
    "#addresses with the most incident calls, kept the ones with more than 100 calls\n",
    "top_9_add = call_data_df['Address'].value_counts().nlargest(n = 9)\n",
    "top_9_add"
   ]
  },
  {
   "cell_type": "code",
   "execution_count": null,
   "id": "8de27cca",
   "metadata": {},
   "outputs": [],
   "source": [
    "top_9_df = pd.DataFrame(top_9_add).reset_index()\n",
    "top_9_df = top_9_df.rename(columns = {'index' : 'Address', 'Address' : 'Count'})\n",
    "top_9_df"
   ]
  },
  {
   "cell_type": "code",
   "execution_count": null,
   "id": "58f21c4b",
   "metadata": {},
   "outputs": [],
   "source": [
    "top_adds = list(top_9_df['Address'])"
   ]
  },
  {
   "cell_type": "code",
   "execution_count": null,
   "id": "aea714ab",
   "metadata": {},
   "outputs": [],
   "source": [
    "#incident type frequency\n",
    "call_data_df['Incident Type'].value_counts()"
   ]
  },
  {
   "cell_type": "code",
   "execution_count": null,
   "id": "f3f2a1c9",
   "metadata": {},
   "outputs": [],
   "source": [
    "#incident types at top address\n",
    "add_most_calls = call_data_df.loc[call_data_df['Address'] == '639 LAFAYETTE ST']\n",
    "add_most_calls"
   ]
  },
  {
   "cell_type": "code",
   "execution_count": null,
   "id": "0f82b0cd",
   "metadata": {},
   "outputs": [],
   "source": [
    "add_most_calls['Incident Type'].value_counts()"
   ]
  },
  {
   "cell_type": "code",
   "execution_count": null,
   "id": "48182916",
   "metadata": {},
   "outputs": [],
   "source": [
    "top_9_info = pd.merge(top_9_df, call_data_df, how = 'inner', on = 'Address')\n",
    "top_9_info"
   ]
  },
  {
   "cell_type": "code",
   "execution_count": null,
   "id": "4e4f1bab",
   "metadata": {},
   "outputs": [],
   "source": [
    "#count of how many rows in the calls_data_df had addresses that matched the top 9\n",
    "call_data_df['Address'].isin(top_adds).value_counts()"
   ]
  },
  {
   "cell_type": "code",
   "execution_count": null,
   "id": "10d1d772",
   "metadata": {},
   "outputs": [],
   "source": [
    "#address and incident type for the top 9\n",
    "top_9_subset = top_9_info[['Address', 'Incident Type']]\n",
    "top_9_subset"
   ]
  },
  {
   "cell_type": "code",
   "execution_count": null,
   "id": "7299e9c4",
   "metadata": {},
   "outputs": [],
   "source": [
    "#incident breakdown for the top 9 addresses\n",
    "top_9_incidents = top_9_subset.groupby(['Incident Type']).count().reset_index()\n",
    "top_9_incidents.sort_values(by = 'Address', ascending = False)"
   ]
  },
  {
   "cell_type": "code",
   "execution_count": null,
   "id": "44774874",
   "metadata": {},
   "outputs": [],
   "source": [
    "top_9_subset.groupby(['Address', 'Incident Type']).count().reset_index()"
   ]
  },
  {
   "cell_type": "code",
   "execution_count": null,
   "id": "73bb317a",
   "metadata": {},
   "outputs": [],
   "source": [
    "call_data_df"
   ]
  },
  {
   "cell_type": "code",
   "execution_count": null,
   "id": "d87aa87e",
   "metadata": {},
   "outputs": [],
   "source": [
    "precinct_month = call_data_df.groupby(['Precinct', 'Month']).count().reset_index()\n",
    "precinct_month"
   ]
  },
  {
   "cell_type": "code",
   "execution_count": null,
   "id": "be30fc51",
   "metadata": {},
   "outputs": [],
   "source": [
    "precinct_month.to_excel(\"output.xlsx\")  "
   ]
  },
  {
   "cell_type": "code",
   "execution_count": null,
   "id": "eeff89d6",
   "metadata": {},
   "outputs": [],
   "source": [
    "top_9_info"
   ]
  },
  {
   "cell_type": "code",
   "execution_count": null,
   "id": "781bd570",
   "metadata": {},
   "outputs": [],
   "source": [
    "top_9_add_prec = top_9_info.groupby(['Precinct', 'Address']).count()\n",
    "top_9_add_prec"
   ]
  },
  {
   "cell_type": "code",
   "execution_count": null,
   "id": "26aa2c9a",
   "metadata": {},
   "outputs": [],
   "source": [
    "top_9_add_prec.to_excel(\"addresses.xlsx\")"
   ]
  },
  {
   "cell_type": "code",
   "execution_count": null,
   "id": "6da646e2",
   "metadata": {},
   "outputs": [],
   "source": [
    "call_data_df.groupby(['Precinct', 'Priority']).count()"
   ]
  },
  {
   "cell_type": "code",
   "execution_count": null,
   "id": "42ab96c0",
   "metadata": {},
   "outputs": [],
   "source": [
    "Precinct = pd.DataFrame(call_data_df['Precinct'].value_counts()).reset_index()\n",
    "Precinct = Precinct.rename(columns = {'index':'Precinct', 'Precinct': 'Count'})\n",
    "Precinct"
   ]
  },
  {
   "cell_type": "code",
   "execution_count": null,
   "id": "8af425c6",
   "metadata": {},
   "outputs": [],
   "source": [
    "Precinct.plot.bar(x = 'Precinct', y = 'Count', rot = 0, figsize = (10, 6), color = 'Maroon', title = 'Calls per Precinct')"
   ]
  },
  {
   "cell_type": "markdown",
   "id": "1ee55105",
   "metadata": {},
   "source": [
    "Connect to Census Data"
   ]
  },
  {
   "cell_type": "code",
   "execution_count": null,
   "id": "ef38a50b",
   "metadata": {},
   "outputs": [],
   "source": [
    "conn = sql.connect(r\"\\Users\\mnorm\\Documents\\NSS\\Python\\Projects\\partners_in_care-rasberry-pi\\data\\census.sqlite\")\n",
    "cur = conn.cursor()"
   ]
  },
  {
   "cell_type": "code",
   "execution_count": null,
   "id": "d152decb",
   "metadata": {},
   "outputs": [],
   "source": [
    "cur.execute(\"SELECT name FROM sqlite_master WHERE type = 'table';\")\n",
    "tables = (cur.fetchall())\n",
    "tables"
   ]
  },
  {
   "cell_type": "code",
   "execution_count": null,
   "id": "5bb6e605",
   "metadata": {},
   "outputs": [],
   "source": [
    "census_geo = gpd.read_file(r\"C:\\Users\\mnorm\\Documents\\NSS\\Python\\Projects\\partners_in_care-rasberry-pi\\data\\tl_2019_47_tract.shp\")\n",
    "census_geo.head()"
   ]
  },
  {
   "cell_type": "code",
   "execution_count": null,
   "id": "9946a955",
   "metadata": {},
   "outputs": [],
   "source": [
    "census_geo.plot()"
   ]
  },
  {
   "cell_type": "code",
   "execution_count": null,
   "id": "7e7b0c72",
   "metadata": {
    "scrolled": false
   },
   "outputs": [],
   "source": [
    "age_sex_df = pd.read_sql(\"SELECT * FROM B01001;\", conn)\n",
    "age_sex_df"
   ]
  },
  {
   "cell_type": "code",
   "execution_count": null,
   "id": "8458899a",
   "metadata": {},
   "outputs": [],
   "source": [
    "age_sex_geo = age_sex_df['GEO_ID'].str.split(pat = 'US', expand = True)\n",
    "age_sex_geo = age_sex_geo.rename(columns = {0 : 'drop', 1: 'GEOID'})\n",
    "age_sex_geo = age_sex_geo.drop(['drop'], axis = 1)\n",
    "age_sex_geo"
   ]
  },
  {
   "cell_type": "code",
   "execution_count": null,
   "id": "ca444cee",
   "metadata": {},
   "outputs": [],
   "source": [
    "age_sex_df['GEOID'] = age_sex_geo"
   ]
  },
  {
   "cell_type": "code",
   "execution_count": null,
   "id": "86f371e3",
   "metadata": {},
   "outputs": [],
   "source": [
    "age_sex_df.head(2)"
   ]
  },
  {
   "cell_type": "code",
   "execution_count": null,
   "id": "391e2364",
   "metadata": {},
   "outputs": [],
   "source": [
    "age_sex_geodf = pd.merge(age_sex_df, census_geo, how = 'inner', on = 'GEOID')\n",
    "age_sex_geodf"
   ]
  },
  {
   "cell_type": "code",
   "execution_count": null,
   "id": "3addf2ad",
   "metadata": {},
   "outputs": [],
   "source": [
    "age_sex_geodf.loc[0, 'geometry']"
   ]
  },
  {
   "cell_type": "code",
   "execution_count": null,
   "id": "4e69ba42",
   "metadata": {},
   "outputs": [],
   "source": [
    "age_sex_geodf = gpd.GeoDataFrame(age_sex_geodf, \n",
    "                 crs = census_geo.crs, \n",
    "                 geometry = age_sex_geodf['geometry'])"
   ]
  },
  {
   "cell_type": "code",
   "execution_count": null,
   "id": "8d3094c7",
   "metadata": {},
   "outputs": [],
   "source": [
    "age_sex_geodf.plot(column = 'GEOID',figsize = (10,10))"
   ]
  },
  {
   "cell_type": "code",
   "execution_count": null,
   "id": "20271794",
   "metadata": {},
   "outputs": [],
   "source": [
    "center = age_sex_geodf['geometry'].centroid[7888]\n",
    "print(center)"
   ]
  },
  {
   "cell_type": "code",
   "execution_count": null,
   "id": "5bb793d7",
   "metadata": {},
   "outputs": [],
   "source": [
    "area_center = [center.y, center.x]\n",
    "area_center"
   ]
  },
  {
   "cell_type": "code",
   "execution_count": null,
   "id": "49703d79",
   "metadata": {},
   "outputs": [],
   "source": [
    "map_agesex = folium.Map(location =  area_center, zoom_start = 12)\n",
    "folium.GeoJson(age_sex_geodf).add_to(map_agesex)\n",
    "map_agesex"
   ]
  },
  {
   "cell_type": "code",
   "execution_count": null,
   "id": "796cc310",
   "metadata": {},
   "outputs": [],
   "source": [
    "race_ethnicity = pd.read_sql('SELECT * FROM B03002', conn)\n",
    "race_ethnicity"
   ]
  },
  {
   "cell_type": "code",
   "execution_count": null,
   "id": "df933137",
   "metadata": {},
   "outputs": [],
   "source": [
    "households = pd.read_sql('SELECT * FROM B11001', conn)\n",
    "households"
   ]
  },
  {
   "cell_type": "markdown",
   "id": "f094840d",
   "metadata": {},
   "source": [
    "Disconnect from Census Data"
   ]
  },
  {
   "cell_type": "code",
   "execution_count": null,
   "id": "35cce2a3",
   "metadata": {},
   "outputs": [],
   "source": [
    "cur.close()\n",
    "conn.close()"
   ]
  },
  {
   "cell_type": "code",
   "execution_count": null,
   "id": "3021a5af",
   "metadata": {},
   "outputs": [],
   "source": [
    "#to do: \n",
    "#breakdown incidents by month, time, precint, priority\n",
    "#figure out for loop to find the incidents count for each address in to 9\n",
    "#map the top 9 addresses"
   ]
  }
 ],
 "metadata": {
  "kernelspec": {
   "display_name": "Python 3 (ipykernel)",
   "language": "python",
   "name": "python3"
  },
  "language_info": {
   "codemirror_mode": {
    "name": "ipython",
    "version": 3
   },
   "file_extension": ".py",
   "mimetype": "text/x-python",
   "name": "python",
   "nbconvert_exporter": "python",
   "pygments_lexer": "ipython3",
   "version": "3.8.5"
  }
 },
 "nbformat": 4,
 "nbformat_minor": 5
}
