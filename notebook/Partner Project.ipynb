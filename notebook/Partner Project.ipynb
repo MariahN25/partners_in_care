{
 "cells": [
  {
   "cell_type": "markdown",
   "id": "ce47a943",
   "metadata": {},
   "source": [
    "## Goals\n",
    "* Identify logical areas for future phased expansion of the pilot program.\n",
    "* Explore the calls data to look for any trends in terms of times or locations. Are there any precincts that get more than their share of calls?\n",
    "* Determine if there are any trends that may be disproportionality responding to populations of high poverty, low education, housing inequities, or race/ethnicity.\n"
   ]
  },
  {
   "cell_type": "code",
   "execution_count": null,
   "id": "50cc6c30",
   "metadata": {},
   "outputs": [],
   "source": [
    "import pandas as pd\n",
    "import sqlite3 as sql"
   ]
  },
  {
   "cell_type": "markdown",
   "id": "ec7177ba",
   "metadata": {},
   "source": [
    "Connect to Census Data"
   ]
  },
  {
   "cell_type": "code",
   "execution_count": null,
   "id": "040a3432",
   "metadata": {},
   "outputs": [],
   "source": [
    "conn = sql.connect(r\"\\Users\\mnorm\\Documents\\NSS\\Python\\Projects\\partners_in_care-rasberry-pi\\data\\census.sqlite\")\n",
    "cur = conn.cursor()"
   ]
  },
  {
   "cell_type": "code",
   "execution_count": null,
   "id": "cc654376",
   "metadata": {},
   "outputs": [],
   "source": [
    "cur.execute(\"SELECT name FROM sqlite_master WHERE type = 'table';\")\n",
    "tables = (cur.fetchall())\n",
    "tables"
   ]
  },
  {
   "cell_type": "markdown",
   "id": "cbe3536e",
   "metadata": {},
   "source": [
    "Disconnect from Census Data"
   ]
  },
  {
   "cell_type": "code",
   "execution_count": null,
   "id": "e717ebf4",
   "metadata": {},
   "outputs": [],
   "source": [
    "cur.close()\n",
    "conn.close()"
   ]
  },
  {
   "cell_type": "markdown",
   "id": "d7994af0",
   "metadata": {},
   "source": [
    "Import Police Call Data"
   ]
  },
  {
   "cell_type": "code",
   "execution_count": null,
   "id": "9094c87d",
   "metadata": {},
   "outputs": [],
   "source": [
    "file = pd.ExcelFile(r\"\\Users\\mnorm\\Documents\\NSS\\Python\\Projects\\partners_in_care-rasberry-pi\\data\\Mental_Calls_by_Precinct_Plain_Text_Incident_Types_070121_022822.xlsx\")"
   ]
  },
  {
   "cell_type": "code",
   "execution_count": null,
   "id": "cd708929",
   "metadata": {},
   "outputs": [],
   "source": [
    "incidents_df = pd.read_excel(file, 'incident_types')\n",
    "incidents_df.head(3)"
   ]
  },
  {
   "cell_type": "code",
   "execution_count": null,
   "id": "632f5c96",
   "metadata": {},
   "outputs": [],
   "source": [
    "priority_df = pd.read_excel(file, 'priority')\n",
    "priority_df.head(3)"
   ]
  },
  {
   "cell_type": "code",
   "execution_count": null,
   "id": "0df179dc",
   "metadata": {},
   "outputs": [],
   "source": [
    "calls_df = pd.read_excel(file, 'call_info')\n",
    "calls_df.head(3)"
   ]
  },
  {
   "cell_type": "code",
   "execution_count": null,
   "id": "499ba740",
   "metadata": {},
   "outputs": [],
   "source": []
  }
 ],
 "metadata": {
  "kernelspec": {
   "display_name": "Python 3 (ipykernel)",
   "language": "python",
   "name": "python3"
  },
  "language_info": {
   "codemirror_mode": {
    "name": "ipython",
    "version": 3
   },
   "file_extension": ".py",
   "mimetype": "text/x-python",
   "name": "python",
   "nbconvert_exporter": "python",
   "pygments_lexer": "ipython3",
   "version": "3.9.7"
  }
 },
 "nbformat": 4,
 "nbformat_minor": 5
}
